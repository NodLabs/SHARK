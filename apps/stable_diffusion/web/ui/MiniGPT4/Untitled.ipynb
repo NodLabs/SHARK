{
 "cells": [
  {
   "cell_type": "code",
   "execution_count": 2,
   "id": "7d76a231",
   "metadata": {},
   "outputs": [],
   "source": [
    "model_card = \"/home/vivek/work/02_03/MiniGPT-4/vicuna_weights/\""
   ]
  },
  {
   "cell_type": "code",
   "execution_count": 3,
   "id": "3dd253a7",
   "metadata": {},
   "outputs": [
    {
     "name": "stderr",
     "output_type": "stream",
     "text": [
      "/home/vivek/work/02_03/shark-vivekkhandelwal1/shark.venv/lib/python3.10/site-packages/tqdm/auto.py:21: TqdmWarning: IProgress not found. Please update jupyter and ipywidgets. See https://ipywidgets.readthedocs.io/en/stable/user_install.html\n",
      "  from .autonotebook import tqdm as notebook_tqdm\n"
     ]
    }
   ],
   "source": [
    "from transformers import LlamaTokenizer"
   ]
  },
  {
   "cell_type": "code",
   "execution_count": 7,
   "id": "07a1f87a",
   "metadata": {},
   "outputs": [],
   "source": [
    "tokenizer = LlamaTokenizer.from_pretrained(model_card)\n",
    "tokenizer.pad_token = tokenizer.eos_token"
   ]
  },
  {
   "cell_type": "code",
   "execution_count": 8,
   "id": "d95475eb",
   "metadata": {},
   "outputs": [],
   "source": [
    "text = \"What is this?\""
   ]
  },
  {
   "cell_type": "code",
   "execution_count": 9,
   "id": "1562de22",
   "metadata": {},
   "outputs": [],
   "source": [
    "out = tokenizer(text, padding=\"max_length\", max_length=50)"
   ]
  },
  {
   "cell_type": "code",
   "execution_count": 10,
   "id": "93665dea",
   "metadata": {},
   "outputs": [
    {
     "data": {
      "text/plain": [
       "{'input_ids': [1, 1724, 338, 445, 29973, 2, 2, 2, 2, 2, 2, 2, 2, 2, 2, 2, 2, 2, 2, 2, 2, 2, 2, 2, 2, 2, 2, 2, 2, 2, 2, 2, 2, 2, 2, 2, 2, 2, 2, 2, 2, 2, 2, 2, 2, 2, 2, 2, 2, 2], 'attention_mask': [1, 1, 1, 1, 1, 0, 0, 0, 0, 0, 0, 0, 0, 0, 0, 0, 0, 0, 0, 0, 0, 0, 0, 0, 0, 0, 0, 0, 0, 0, 0, 0, 0, 0, 0, 0, 0, 0, 0, 0, 0, 0, 0, 0, 0, 0, 0, 0, 0, 0]}"
      ]
     },
     "execution_count": 10,
     "metadata": {},
     "output_type": "execute_result"
    }
   ],
   "source": [
    "out"
   ]
  },
  {
   "cell_type": "code",
   "execution_count": null,
   "id": "f68c8859",
   "metadata": {},
   "outputs": [],
   "source": [
    "# tokenizer.pad_token = llama_tokenizer.eos_token"
   ]
  }
 ],
 "metadata": {
  "kernelspec": {
   "display_name": "Python 3 (ipykernel)",
   "language": "python",
   "name": "python3"
  },
  "language_info": {
   "codemirror_mode": {
    "name": "ipython",
    "version": 3
   },
   "file_extension": ".py",
   "mimetype": "text/x-python",
   "name": "python",
   "nbconvert_exporter": "python",
   "pygments_lexer": "ipython3",
   "version": "3.10.6"
  }
 },
 "nbformat": 4,
 "nbformat_minor": 5
}
